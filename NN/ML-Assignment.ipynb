{
 "cells": [
  {
   "cell_type": "markdown",
   "metadata": {},
   "source": [
    "# K Nearest Neibhour"
   ]
  },
  {
   "cell_type": "code",
   "execution_count": 1,
   "metadata": {},
   "outputs": [],
   "source": [
    "import numpy as np\n",
    "import matplotlib.pyplot as plt\n",
    "import pandas as pd"
   ]
  },
  {
   "cell_type": "code",
   "execution_count": 2,
   "metadata": {},
   "outputs": [
    {
     "name": "stdout",
     "output_type": "stream",
     "text": [
      "   age          workclass   education   education-num          marital-status  \\\n",
      "0   39          State-gov   Bachelors              13           Never-married   \n",
      "1   50   Self-emp-not-inc   Bachelors              13      Married-civ-spouse   \n",
      "2   38            Private     HS-grad               9                Divorced   \n",
      "3   53            Private        11th               7      Married-civ-spouse   \n",
      "4   28            Private   Bachelors              13      Married-civ-spouse   \n",
      "5   37            Private     Masters              14      Married-civ-spouse   \n",
      "6   49            Private         9th               5   Married-spouse-absent   \n",
      "7   52   Self-emp-not-inc     HS-grad               9      Married-civ-spouse   \n",
      "\n",
      "           occupation    relationship    race      sex   capital-gain  \\\n",
      "0        Adm-clerical   Not-in-family   White     Male           2174   \n",
      "1     Exec-managerial         Husband   White     Male              0   \n",
      "2   Handlers-cleaners   Not-in-family   White     Male              0   \n",
      "3   Handlers-cleaners         Husband   Black     Male              0   \n",
      "4      Prof-specialty            Wife   Black   Female              0   \n",
      "5     Exec-managerial            Wife   White   Female              0   \n",
      "6       Other-service   Not-in-family   Black   Female              0   \n",
      "7     Exec-managerial         Husband   White     Male              0   \n",
      "\n",
      "    capital-loss   hours-per-week  native-country  income  \n",
      "0              0               40   United-States   <=50K  \n",
      "1              0               13   United-States   <=50K  \n",
      "2              0               40   United-States   <=50K  \n",
      "3              0               40   United-States   <=50K  \n",
      "4              0               40            Cuba   <=50K  \n",
      "5              0               40   United-States   <=50K  \n",
      "6              0               16         Jamaica   <=50K  \n",
      "7              0               45   United-States    >50K  \n"
     ]
    }
   ],
   "source": [
    "#import data set\n",
    "url = \"Adult_Census_Income_Binary_Classification_dataset.csv\"\n",
    "#read dataset to pandas dataframe\n",
    "dataset = pd.read_csv(url)\n",
    "print(dataset[0:8])"
   ]
  },
  {
   "cell_type": "code",
   "execution_count": 3,
   "metadata": {},
   "outputs": [
    {
     "name": "stdout",
     "output_type": "stream",
     "text": [
      "   age          workclass   education   education-num          marital-status  \\\n",
      "0   39          State-gov   Bachelors              13           Never-married   \n",
      "1   50   Self-emp-not-inc   Bachelors              13      Married-civ-spouse   \n",
      "2   38            Private     HS-grad               9                Divorced   \n",
      "3   53            Private        11th               7      Married-civ-spouse   \n",
      "4   28            Private   Bachelors              13      Married-civ-spouse   \n",
      "5   37            Private     Masters              14      Married-civ-spouse   \n",
      "6   49            Private         9th               5   Married-spouse-absent   \n",
      "7   52   Self-emp-not-inc     HS-grad               9      Married-civ-spouse   \n",
      "\n",
      "           occupation    relationship    race      sex   capital-gain  \\\n",
      "0        Adm-clerical   Not-in-family   White     Male           2174   \n",
      "1     Exec-managerial         Husband   White     Male              0   \n",
      "2   Handlers-cleaners   Not-in-family   White     Male              0   \n",
      "3   Handlers-cleaners         Husband   Black     Male              0   \n",
      "4      Prof-specialty            Wife   Black   Female              0   \n",
      "5     Exec-managerial            Wife   White   Female              0   \n",
      "6       Other-service   Not-in-family   Black   Female              0   \n",
      "7     Exec-managerial         Husband   White     Male              0   \n",
      "\n",
      "    capital-loss   hours-per-week  native-country  income  \n",
      "0              0               40   United-States   <=50K  \n",
      "1              0               13   United-States   <=50K  \n",
      "2              0               40   United-States   <=50K  \n",
      "3              0               40   United-States   <=50K  \n",
      "4              0               40            Cuba   <=50K  \n",
      "5              0               40   United-States   <=50K  \n",
      "6              0               16         Jamaica   <=50K  \n",
      "7              0               45   United-States    >50K  \n"
     ]
    }
   ],
   "source": [
    "#changing missing values to NaN\n",
    "newdf = dataset.replace(r'\\?', np.nan, regex=True)\n",
    "print(newdf[0:8])"
   ]
  },
  {
   "cell_type": "code",
   "execution_count": 4,
   "metadata": {},
   "outputs": [
    {
     "name": "stdout",
     "output_type": "stream",
     "text": [
      "       age          workclass      education   education-num  \\\n",
      "0       39          State-gov      Bachelors              13   \n",
      "1       50   Self-emp-not-inc      Bachelors              13   \n",
      "2       38            Private        HS-grad               9   \n",
      "3       53            Private           11th               7   \n",
      "4       28            Private      Bachelors              13   \n",
      "5       37            Private        Masters              14   \n",
      "6       49            Private            9th               5   \n",
      "7       52   Self-emp-not-inc        HS-grad               9   \n",
      "8       31            Private        Masters              14   \n",
      "9       42            Private      Bachelors              13   \n",
      "10      37            Private   Some-college              10   \n",
      "11      30          State-gov      Bachelors              13   \n",
      "12      23            Private      Bachelors              13   \n",
      "13      32            Private     Assoc-acdm              12   \n",
      "15      34            Private        7th-8th               4   \n",
      "16      25   Self-emp-not-inc        HS-grad               9   \n",
      "17      32            Private        HS-grad               9   \n",
      "18      38            Private           11th               7   \n",
      "19      43   Self-emp-not-inc        Masters              14   \n",
      "20      40            Private      Doctorate              16   \n",
      "21      54            Private        HS-grad               9   \n",
      "22      35        Federal-gov            9th               5   \n",
      "23      43            Private           11th               7   \n",
      "24      59            Private        HS-grad               9   \n",
      "25      56          Local-gov      Bachelors              13   \n",
      "26      19            Private        HS-grad               9   \n",
      "28      39            Private        HS-grad               9   \n",
      "29      49            Private        HS-grad               9   \n",
      "30      23          Local-gov     Assoc-acdm              12   \n",
      "31      20            Private   Some-college              10   \n",
      "...    ...                ...            ...             ...   \n",
      "32526   32            Private           10th               6   \n",
      "32527   22            Private   Some-college              10   \n",
      "32528   31            Private        HS-grad               9   \n",
      "32529   29            Private        HS-grad               9   \n",
      "32532   34            Private      Doctorate              16   \n",
      "32533   54            Private      Bachelors              13   \n",
      "32534   37            Private   Some-college              10   \n",
      "32535   22            Private           12th               8   \n",
      "32536   34            Private      Bachelors              13   \n",
      "32537   30            Private        HS-grad               9   \n",
      "32538   38            Private      Bachelors              13   \n",
      "32540   45          State-gov        HS-grad               9   \n",
      "32543   45          Local-gov     Assoc-acdm              12   \n",
      "32544   31            Private        Masters              14   \n",
      "32545   39          Local-gov     Assoc-acdm              12   \n",
      "32546   37            Private     Assoc-acdm              12   \n",
      "32547   43            Private        HS-grad               9   \n",
      "32548   65   Self-emp-not-inc    Prof-school              15   \n",
      "32549   43          State-gov   Some-college              10   \n",
      "32550   43   Self-emp-not-inc   Some-college              10   \n",
      "32551   32            Private           10th               6   \n",
      "32552   43            Private      Assoc-voc              11   \n",
      "32553   32            Private        Masters              14   \n",
      "32554   53            Private        Masters              14   \n",
      "32555   22            Private   Some-college              10   \n",
      "32556   27            Private     Assoc-acdm              12   \n",
      "32557   40            Private        HS-grad               9   \n",
      "32558   58            Private        HS-grad               9   \n",
      "32559   22            Private        HS-grad               9   \n",
      "32560   52       Self-emp-inc        HS-grad               9   \n",
      "\n",
      "               marital-status          occupation     relationship  \\\n",
      "0               Never-married        Adm-clerical    Not-in-family   \n",
      "1          Married-civ-spouse     Exec-managerial          Husband   \n",
      "2                    Divorced   Handlers-cleaners    Not-in-family   \n",
      "3          Married-civ-spouse   Handlers-cleaners          Husband   \n",
      "4          Married-civ-spouse      Prof-specialty             Wife   \n",
      "5          Married-civ-spouse     Exec-managerial             Wife   \n",
      "6       Married-spouse-absent       Other-service    Not-in-family   \n",
      "7          Married-civ-spouse     Exec-managerial          Husband   \n",
      "8               Never-married      Prof-specialty    Not-in-family   \n",
      "9          Married-civ-spouse     Exec-managerial          Husband   \n",
      "10         Married-civ-spouse     Exec-managerial          Husband   \n",
      "11         Married-civ-spouse      Prof-specialty          Husband   \n",
      "12              Never-married        Adm-clerical        Own-child   \n",
      "13              Never-married               Sales    Not-in-family   \n",
      "15         Married-civ-spouse    Transport-moving          Husband   \n",
      "16              Never-married     Farming-fishing        Own-child   \n",
      "17              Never-married   Machine-op-inspct        Unmarried   \n",
      "18         Married-civ-spouse               Sales          Husband   \n",
      "19                   Divorced     Exec-managerial        Unmarried   \n",
      "20         Married-civ-spouse      Prof-specialty          Husband   \n",
      "21                  Separated       Other-service        Unmarried   \n",
      "22         Married-civ-spouse     Farming-fishing          Husband   \n",
      "23         Married-civ-spouse    Transport-moving          Husband   \n",
      "24                   Divorced        Tech-support        Unmarried   \n",
      "25         Married-civ-spouse        Tech-support          Husband   \n",
      "26              Never-married        Craft-repair        Own-child   \n",
      "28                   Divorced     Exec-managerial    Not-in-family   \n",
      "29         Married-civ-spouse        Craft-repair          Husband   \n",
      "30              Never-married     Protective-serv    Not-in-family   \n",
      "31              Never-married               Sales        Own-child   \n",
      "...                       ...                 ...              ...   \n",
      "32526      Married-civ-spouse    Transport-moving          Husband   \n",
      "32527           Never-married        Adm-clerical        Own-child   \n",
      "32528      Married-civ-spouse   Machine-op-inspct             Wife   \n",
      "32529               Separated               Sales        Unmarried   \n",
      "32532      Married-civ-spouse      Prof-specialty          Husband   \n",
      "32533      Married-civ-spouse     Exec-managerial          Husband   \n",
      "32534                Divorced        Adm-clerical        Unmarried   \n",
      "32535           Never-married     Protective-serv        Own-child   \n",
      "32536           Never-married     Exec-managerial    Not-in-family   \n",
      "32537           Never-married        Craft-repair    Not-in-family   \n",
      "32538                Divorced      Prof-specialty        Unmarried   \n",
      "32540               Separated        Adm-clerical        Own-child   \n",
      "32543                Divorced      Prof-specialty        Unmarried   \n",
      "32544                Divorced       Other-service    Not-in-family   \n",
      "32545      Married-civ-spouse        Adm-clerical             Wife   \n",
      "32546                Divorced        Tech-support    Not-in-family   \n",
      "32547      Married-civ-spouse   Machine-op-inspct          Husband   \n",
      "32548           Never-married      Prof-specialty    Not-in-family   \n",
      "32549                Divorced        Adm-clerical   Other-relative   \n",
      "32550      Married-civ-spouse        Craft-repair          Husband   \n",
      "32551      Married-civ-spouse   Handlers-cleaners          Husband   \n",
      "32552      Married-civ-spouse               Sales          Husband   \n",
      "32553           Never-married        Tech-support    Not-in-family   \n",
      "32554      Married-civ-spouse     Exec-managerial          Husband   \n",
      "32555           Never-married     Protective-serv    Not-in-family   \n",
      "32556      Married-civ-spouse        Tech-support             Wife   \n",
      "32557      Married-civ-spouse   Machine-op-inspct          Husband   \n",
      "32558                 Widowed        Adm-clerical        Unmarried   \n",
      "32559           Never-married        Adm-clerical        Own-child   \n",
      "32560      Married-civ-spouse     Exec-managerial             Wife   \n",
      "\n",
      "                      race      sex   capital-gain   capital-loss  \\\n",
      "0                    White     Male           2174              0   \n",
      "1                    White     Male              0              0   \n",
      "2                    White     Male              0              0   \n",
      "3                    Black     Male              0              0   \n",
      "4                    Black   Female              0              0   \n",
      "5                    White   Female              0              0   \n",
      "6                    Black   Female              0              0   \n",
      "7                    White     Male              0              0   \n",
      "8                    White   Female          14084              0   \n",
      "9                    White     Male           5178              0   \n",
      "10                   Black     Male              0              0   \n",
      "11      Asian-Pac-Islander     Male              0              0   \n",
      "12                   White   Female              0              0   \n",
      "13                   Black     Male              0              0   \n",
      "15      Amer-Indian-Eskimo     Male              0              0   \n",
      "16                   White     Male              0              0   \n",
      "17                   White     Male              0              0   \n",
      "18                   White     Male              0              0   \n",
      "19                   White   Female              0              0   \n",
      "20                   White     Male              0              0   \n",
      "21                   Black   Female              0              0   \n",
      "22                   Black     Male              0              0   \n",
      "23                   White     Male              0           2042   \n",
      "24                   White   Female              0              0   \n",
      "25                   White     Male              0              0   \n",
      "26                   White     Male              0              0   \n",
      "28                   White     Male              0              0   \n",
      "29                   White     Male              0              0   \n",
      "30                   White     Male              0              0   \n",
      "31                   Black     Male              0              0   \n",
      "...                    ...      ...            ...            ...   \n",
      "32526                White     Male              0              0   \n",
      "32527                White     Male              0              0   \n",
      "32528                White   Female              0              0   \n",
      "32529                White   Female              0              0   \n",
      "32532                White     Male              0              0   \n",
      "32533   Asian-Pac-Islander     Male              0              0   \n",
      "32534                White   Female              0              0   \n",
      "32535                Black     Male              0              0   \n",
      "32536                White   Female              0              0   \n",
      "32537                Black     Male              0              0   \n",
      "32538                Black   Female          15020              0   \n",
      "32540                White   Female              0              0   \n",
      "32543                White   Female              0              0   \n",
      "32544                Other   Female              0              0   \n",
      "32545                White   Female              0              0   \n",
      "32546                White   Female              0              0   \n",
      "32547                White     Male              0              0   \n",
      "32548                White     Male           1086              0   \n",
      "32549                White   Female              0              0   \n",
      "32550                White     Male              0              0   \n",
      "32551   Amer-Indian-Eskimo     Male              0              0   \n",
      "32552                White     Male              0              0   \n",
      "32553   Asian-Pac-Islander     Male              0              0   \n",
      "32554                White     Male              0              0   \n",
      "32555                White     Male              0              0   \n",
      "32556                White   Female              0              0   \n",
      "32557                White     Male              0              0   \n",
      "32558                White   Female              0              0   \n",
      "32559                White     Male              0              0   \n",
      "32560                White   Female          15024              0   \n",
      "\n",
      "        hours-per-week  native-country  income  \n",
      "0                   40   United-States   <=50K  \n",
      "1                   13   United-States   <=50K  \n",
      "2                   40   United-States   <=50K  \n",
      "3                   40   United-States   <=50K  \n",
      "4                   40            Cuba   <=50K  \n",
      "5                   40   United-States   <=50K  \n",
      "6                   16         Jamaica   <=50K  \n",
      "7                   45   United-States    >50K  \n",
      "8                   50   United-States    >50K  \n",
      "9                   40   United-States    >50K  \n",
      "10                  80   United-States    >50K  \n",
      "11                  40           India    >50K  \n",
      "12                  30   United-States   <=50K  \n",
      "13                  50   United-States   <=50K  \n",
      "15                  45          Mexico   <=50K  \n",
      "16                  35   United-States   <=50K  \n",
      "17                  40   United-States   <=50K  \n",
      "18                  50   United-States   <=50K  \n",
      "19                  45   United-States    >50K  \n",
      "20                  60   United-States    >50K  \n",
      "21                  20   United-States   <=50K  \n",
      "22                  40   United-States   <=50K  \n",
      "23                  40   United-States   <=50K  \n",
      "24                  40   United-States   <=50K  \n",
      "25                  40   United-States    >50K  \n",
      "26                  40   United-States   <=50K  \n",
      "28                  80   United-States   <=50K  \n",
      "29                  40   United-States   <=50K  \n",
      "30                  52   United-States   <=50K  \n",
      "31                  44   United-States   <=50K  \n",
      "...                ...             ...     ...  \n",
      "32526               40   United-States   <=50K  \n",
      "32527               40   United-States   <=50K  \n",
      "32528               40   United-States   <=50K  \n",
      "32529               35   United-States   <=50K  \n",
      "32532               60   United-States    >50K  \n",
      "32533               50           Japan    >50K  \n",
      "32534               39   United-States   <=50K  \n",
      "32535               35   United-States   <=50K  \n",
      "32536               55   United-States    >50K  \n",
      "32537               46   United-States   <=50K  \n",
      "32538               45   United-States    >50K  \n",
      "32540               40   United-States   <=50K  \n",
      "32543               48   United-States   <=50K  \n",
      "32544               30   United-States   <=50K  \n",
      "32545               20   United-States    >50K  \n",
      "32546               40   United-States   <=50K  \n",
      "32547               40          Mexico   <=50K  \n",
      "32548               60   United-States   <=50K  \n",
      "32549               40   United-States   <=50K  \n",
      "32550               50   United-States   <=50K  \n",
      "32551               40   United-States   <=50K  \n",
      "32552               45   United-States   <=50K  \n",
      "32553               11          Taiwan   <=50K  \n",
      "32554               40   United-States    >50K  \n",
      "32555               40   United-States   <=50K  \n",
      "32556               38   United-States   <=50K  \n",
      "32557               40   United-States    >50K  \n",
      "32558               40   United-States   <=50K  \n",
      "32559               20   United-States   <=50K  \n",
      "32560               40   United-States    >50K  \n",
      "\n",
      "[30162 rows x 14 columns]\n"
     ]
    }
   ],
   "source": [
    "#removing missing values\n",
    "newdf=newdf.dropna()\n",
    "print(newdf)"
   ]
  },
  {
   "cell_type": "code",
   "execution_count": 5,
   "metadata": {},
   "outputs": [
    {
     "data": {
      "text/plain": [
       "age                 int64\n",
       " workclass         object\n",
       " education         object\n",
       " education-num      int64\n",
       " marital-status    object\n",
       " occupation        object\n",
       " relationship      object\n",
       " race              object\n",
       " sex               object\n",
       " capital-gain       int64\n",
       " capital-loss       int64\n",
       " hours-per-week     int64\n",
       " native-country    object\n",
       " income            object\n",
       "dtype: object"
      ]
     },
     "execution_count": 5,
     "metadata": {},
     "output_type": "execute_result"
    }
   ],
   "source": [
    "newdf.dtypes"
   ]
  },
  {
   "cell_type": "code",
   "execution_count": 6,
   "metadata": {},
   "outputs": [],
   "source": [
    "#Label the categorigal variables\n",
    "from sklearn.preprocessing import LabelEncoder\n",
    "le= LabelEncoder()\n",
    "for col in newdf.columns.values:\n",
    "    if newdf[col].dtypes=='object':\n",
    "        data=newdf[col]\n",
    "        le.fit(data.values)\n",
    "        newdf[col]=le.transform(newdf[col])\n",
    "  "
   ]
  },
  {
   "cell_type": "code",
   "execution_count": 7,
   "metadata": {},
   "outputs": [
    {
     "name": "stdout",
     "output_type": "stream",
     "text": [
      "   age   workclass   education   education-num   marital-status   occupation  \\\n",
      "0   39           5           9              13                4            0   \n",
      "1   50           4           9              13                2            3   \n",
      "2   38           2          11               9                0            5   \n",
      "3   53           2           1               7                2            5   \n",
      "4   28           2           9              13                2            9   \n",
      "\n",
      "    relationship   race   sex   capital-gain   capital-loss   hours-per-week  \\\n",
      "0              1      4     1           2174              0               40   \n",
      "1              0      4     1              0              0               13   \n",
      "2              1      4     1              0              0               40   \n",
      "3              0      2     1              0              0               40   \n",
      "4              5      2     0              0              0               40   \n",
      "\n",
      "    native-country   income  \n",
      "0               38        0  \n",
      "1               38        0  \n",
      "2               38        0  \n",
      "3               38        0  \n",
      "4                4        0  \n"
     ]
    }
   ],
   "source": [
    "print(newdf[0:5])"
   ]
  },
  {
   "cell_type": "code",
   "execution_count": 8,
   "metadata": {},
   "outputs": [],
   "source": [
    "#split dataset into its attributes and labels\n",
    "X = newdf.iloc[:, :-1].values\n",
    "Y = newdf.iloc[:, 13].values"
   ]
  },
  {
   "cell_type": "code",
   "execution_count": 9,
   "metadata": {},
   "outputs": [
    {
     "name": "stderr",
     "output_type": "stream",
     "text": [
      "H:\\Anaconda3\\lib\\site-packages\\sklearn\\utils\\validation.py:475: DataConversionWarning: Data with input dtype int64 was converted to float64 by MinMaxScaler.\n",
      "  warnings.warn(msg, DataConversionWarning)\n"
     ]
    }
   ],
   "source": [
    "#normalize features\n",
    "from sklearn.preprocessing import MinMaxScaler\n",
    "scalar= MinMaxScaler()\n",
    "scalar.fit(X)\n",
    "\n",
    "X = scalar.transform(X)"
   ]
  },
  {
   "cell_type": "code",
   "execution_count": 10,
   "metadata": {},
   "outputs": [
    {
     "name": "stdout",
     "output_type": "stream",
     "text": [
      "[[0.30136986 0.83333333 0.6        0.8        0.66666667 0.\n",
      "  0.2        1.         1.         0.02174022 0.         0.39795918\n",
      "  0.95      ]\n",
      " [0.45205479 0.66666667 0.6        0.8        0.33333333 0.23076923\n",
      "  0.         1.         1.         0.         0.         0.12244898\n",
      "  0.95      ]\n",
      " [0.28767123 0.33333333 0.73333333 0.53333333 0.         0.38461538\n",
      "  0.2        1.         1.         0.         0.         0.39795918\n",
      "  0.95      ]]\n"
     ]
    }
   ],
   "source": [
    "print(X[0:3])"
   ]
  },
  {
   "cell_type": "code",
   "execution_count": 11,
   "metadata": {},
   "outputs": [],
   "source": [
    "#training and test split\n",
    "from sklearn.neighbors import KNeighborsClassifier\n",
    "from sklearn.model_selection import train_test_split\n",
    "X_train, X_test, Y_train, Y_test = train_test_split(X,Y, test_size = 0.20)"
   ]
  },
  {
   "cell_type": "code",
   "execution_count": 12,
   "metadata": {},
   "outputs": [],
   "source": [
    "#normalize features\n",
    "#from sklearn.preprocessing import StandardScaler\n",
    "#scaler = StandardScaler()\n",
    "#scaler.fit(X_train)\n",
    "\n",
    "#X_train = scaler.transform(X_train)\n",
    "#X_test = scaler.transform(X_test)"
   ]
  },
  {
   "cell_type": "code",
   "execution_count": 13,
   "metadata": {},
   "outputs": [],
   "source": [
    "#comparing error with K value\n",
    "error = []\n",
    "\n",
    "# Calculating error for K values between 1 and 40\n",
    "for i in range(1, 40):  \n",
    "    knn = KNeighborsClassifier(n_neighbors=i)\n",
    "    knn.fit(X_train, Y_train)\n",
    "    pred_i = knn.predict(X_test)\n",
    "    error.append(np.mean(pred_i != Y_test))"
   ]
  },
  {
   "cell_type": "code",
   "execution_count": 14,
   "metadata": {},
   "outputs": [
    {
     "data": {
      "text/plain": [
       "Text(0,0.5,'Mean Error')"
      ]
     },
     "execution_count": 14,
     "metadata": {},
     "output_type": "execute_result"
    },
    {
     "data": {
      "image/png": "[encoded data removed]",
      "text/plain": [
       "<Figure size 864x432 with 1 Axes>"
      ]
     },
     "metadata": {},
     "output_type": "display_data"
    }
   ],
   "source": [
    "#plotting error vs K  values\n",
    "plt.figure(figsize=(12, 6))  \n",
    "plt.plot(range(1, 40), error, color='red', linestyle='dashed', marker='o',  \n",
    "         markerfacecolor='blue', markersize=10)\n",
    "plt.title('Error Rate K Value')  \n",
    "plt.xlabel('K Value')  \n",
    "plt.ylabel('Mean Error')  "
   ]
  },
  {
   "cell_type": "code",
   "execution_count": 15,
   "metadata": {},
   "outputs": [
    {
     "data": {
      "text/plain": [
       "KNeighborsClassifier(algorithm='auto', leaf_size=30, metric='minkowski',\n",
       "           metric_params=None, n_jobs=1, n_neighbors=26, p=2,\n",
       "           weights='uniform')"
      ]
     },
     "execution_count": 15,
     "metadata": {},
     "output_type": "execute_result"
    }
   ],
   "source": [
    "#training \n",
    "from sklearn.neighbors import KNeighborsClassifier\n",
    "classifier = KNeighborsClassifier(n_neighbors=26)\n",
    "classifier.fit(X_train,Y_train)"
   ]
  },
  {
   "cell_type": "code",
   "execution_count": 16,
   "metadata": {},
   "outputs": [],
   "source": [
    "#Predict\n",
    "y_pred = classifier.predict(X_test)"
   ]
  },
  {
   "cell_type": "code",
   "execution_count": 17,
   "metadata": {},
   "outputs": [
    {
     "name": "stdout",
     "output_type": "stream",
     "text": [
      "[[4204  339]\n",
      " [ 676  814]]\n",
      "             precision    recall  f1-score   support\n",
      "\n",
      "          0       0.86      0.93      0.89      4543\n",
      "          1       0.71      0.55      0.62      1490\n",
      "\n",
      "avg / total       0.82      0.83      0.82      6033\n",
      "\n"
     ]
    }
   ],
   "source": [
    "#Evaluating the Algorithm\n",
    "from sklearn.metrics import classification_report, confusion_matrix  \n",
    "print(confusion_matrix(Y_test, y_pred))  \n",
    "print(classification_report(Y_test, y_pred)) "
   ]
  },
  {
   "cell_type": "markdown",
   "metadata": {},
   "source": [
    "# Logistic Regression"
   ]
  },
  {
   "cell_type": "code",
   "execution_count": 18,
   "metadata": {},
   "outputs": [
    {
     "name": "stderr",
     "output_type": "stream",
     "text": [
      "H:\\Anaconda3\\lib\\site-packages\\h5py\\__init__.py:36: FutureWarning: Conversion of the second argument of issubdtype from `float` to `np.floating` is deprecated. In future, it will be treated as `np.float64 == np.dtype(float).type`.\n",
      "  from ._conv import register_converters as _register_converters\n",
      "Using TensorFlow backend.\n"
     ]
    }
   ],
   "source": [
    "from keras.models import Sequential\n",
    "from keras.layers import Dense\n",
    "from keras.utils import to_categorical\n",
    "import numpy as np\n",
    "import matplotlib.pyplot as plt\n",
    "import pandas as pd\n",
    "#fix random seed for reproducibility\n",
    "np.random.seed(10)"
   ]
  },
  {
   "cell_type": "code",
   "execution_count": 19,
   "metadata": {},
   "outputs": [
    {
     "name": "stdout",
     "output_type": "stream",
     "text": [
      "   age          workclass   education   education-num       marital-status  \\\n",
      "0   39          State-gov   Bachelors              13        Never-married   \n",
      "1   50   Self-emp-not-inc   Bachelors              13   Married-civ-spouse   \n",
      "2   38            Private     HS-grad               9             Divorced   \n",
      "\n",
      "           occupation    relationship    race    sex   capital-gain  \\\n",
      "0        Adm-clerical   Not-in-family   White   Male           2174   \n",
      "1     Exec-managerial         Husband   White   Male              0   \n",
      "2   Handlers-cleaners   Not-in-family   White   Male              0   \n",
      "\n",
      "    capital-loss   hours-per-week  native-country  income  \n",
      "0              0               40   United-States   <=50K  \n",
      "1              0               13   United-States   <=50K  \n",
      "2              0               40   United-States   <=50K  \n"
     ]
    }
   ],
   "source": [
    "#import data set\n",
    "url = \"Adult_Census_Income_Binary_Classification_dataset.csv\"\n",
    "#read dataset to pandas dataframe\n",
    "dataset = pd.read_csv(url)\n",
    "print(dataset[0:3])"
   ]
  },
  {
   "cell_type": "code",
   "execution_count": 20,
   "metadata": {},
   "outputs": [
    {
     "name": "stdout",
     "output_type": "stream",
     "text": [
      "   age          workclass   education   education-num       marital-status  \\\n",
      "0   39          State-gov   Bachelors              13        Never-married   \n",
      "1   50   Self-emp-not-inc   Bachelors              13   Married-civ-spouse   \n",
      "2   38            Private     HS-grad               9             Divorced   \n",
      "\n",
      "           occupation    relationship    race    sex   capital-gain  \\\n",
      "0        Adm-clerical   Not-in-family   White   Male           2174   \n",
      "1     Exec-managerial         Husband   White   Male              0   \n",
      "2   Handlers-cleaners   Not-in-family   White   Male              0   \n",
      "\n",
      "    capital-loss   hours-per-week  native-country  income  \n",
      "0              0               40   United-States   <=50K  \n",
      "1              0               13   United-States   <=50K  \n",
      "2              0               40   United-States   <=50K  \n"
     ]
    }
   ],
   "source": [
    "#changing missing values to NaN\n",
    "newdf = dataset.replace(r'\\?', np.nan, regex=True)\n",
    "print(newdf[0:3])"
   ]
  },
  {
   "cell_type": "code",
   "execution_count": 21,
   "metadata": {},
   "outputs": [
    {
     "data": {
      "text/plain": [
       "2399"
      ]
     },
     "execution_count": 21,
     "metadata": {},
     "output_type": "execute_result"
    }
   ],
   "source": [
    "#checking number of rows has at least one missing value\n",
    "newdf.isnull().any(axis=1).sum()"
   ]
  },
  {
   "cell_type": "code",
   "execution_count": 22,
   "metadata": {},
   "outputs": [
    {
     "name": "stdout",
     "output_type": "stream",
     "text": [
      "    age          workclass      education   education-num  \\\n",
      "0    39          State-gov      Bachelors              13   \n",
      "1    50   Self-emp-not-inc      Bachelors              13   \n",
      "2    38            Private        HS-grad               9   \n",
      "3    53            Private           11th               7   \n",
      "4    28            Private      Bachelors              13   \n",
      "5    37            Private        Masters              14   \n",
      "6    49            Private            9th               5   \n",
      "7    52   Self-emp-not-inc        HS-grad               9   \n",
      "8    31            Private        Masters              14   \n",
      "9    42            Private      Bachelors              13   \n",
      "10   37            Private   Some-college              10   \n",
      "11   30          State-gov      Bachelors              13   \n",
      "12   23            Private      Bachelors              13   \n",
      "13   32            Private     Assoc-acdm              12   \n",
      "15   34            Private        7th-8th               4   \n",
      "16   25   Self-emp-not-inc        HS-grad               9   \n",
      "17   32            Private        HS-grad               9   \n",
      "18   38            Private           11th               7   \n",
      "19   43   Self-emp-not-inc        Masters              14   \n",
      "20   40            Private      Doctorate              16   \n",
      "21   54            Private        HS-grad               9   \n",
      "22   35        Federal-gov            9th               5   \n",
      "23   43            Private           11th               7   \n",
      "24   59            Private        HS-grad               9   \n",
      "25   56          Local-gov      Bachelors              13   \n",
      "26   19            Private        HS-grad               9   \n",
      "28   39            Private        HS-grad               9   \n",
      "29   49            Private        HS-grad               9   \n",
      "30   23          Local-gov     Assoc-acdm              12   \n",
      "31   20            Private   Some-college              10   \n",
      "\n",
      "            marital-status          occupation    relationship  \\\n",
      "0            Never-married        Adm-clerical   Not-in-family   \n",
      "1       Married-civ-spouse     Exec-managerial         Husband   \n",
      "2                 Divorced   Handlers-cleaners   Not-in-family   \n",
      "3       Married-civ-spouse   Handlers-cleaners         Husband   \n",
      "4       Married-civ-spouse      Prof-specialty            Wife   \n",
      "5       Married-civ-spouse     Exec-managerial            Wife   \n",
      "6    Married-spouse-absent       Other-service   Not-in-family   \n",
      "7       Married-civ-spouse     Exec-managerial         Husband   \n",
      "8            Never-married      Prof-specialty   Not-in-family   \n",
      "9       Married-civ-spouse     Exec-managerial         Husband   \n",
      "10      Married-civ-spouse     Exec-managerial         Husband   \n",
      "11      Married-civ-spouse      Prof-specialty         Husband   \n",
      "12           Never-married        Adm-clerical       Own-child   \n",
      "13           Never-married               Sales   Not-in-family   \n",
      "15      Married-civ-spouse    Transport-moving         Husband   \n",
      "16           Never-married     Farming-fishing       Own-child   \n",
      "17           Never-married   Machine-op-inspct       Unmarried   \n",
      "18      Married-civ-spouse               Sales         Husband   \n",
      "19                Divorced     Exec-managerial       Unmarried   \n",
      "20      Married-civ-spouse      Prof-specialty         Husband   \n",
      "21               Separated       Other-service       Unmarried   \n",
      "22      Married-civ-spouse     Farming-fishing         Husband   \n",
      "23      Married-civ-spouse    Transport-moving         Husband   \n",
      "24                Divorced        Tech-support       Unmarried   \n",
      "25      Married-civ-spouse        Tech-support         Husband   \n",
      "26           Never-married        Craft-repair       Own-child   \n",
      "28                Divorced     Exec-managerial   Not-in-family   \n",
      "29      Married-civ-spouse        Craft-repair         Husband   \n",
      "30           Never-married     Protective-serv   Not-in-family   \n",
      "31           Never-married               Sales       Own-child   \n",
      "\n",
      "                   race      sex   capital-gain   capital-loss  \\\n",
      "0                 White     Male           2174              0   \n",
      "1                 White     Male              0              0   \n",
      "2                 White     Male              0              0   \n",
      "3                 Black     Male              0              0   \n",
      "4                 Black   Female              0              0   \n",
      "5                 White   Female              0              0   \n",
      "6                 Black   Female              0              0   \n",
      "7                 White     Male              0              0   \n",
      "8                 White   Female          14084              0   \n",
      "9                 White     Male           5178              0   \n",
      "10                Black     Male              0              0   \n",
      "11   Asian-Pac-Islander     Male              0              0   \n",
      "12                White   Female              0              0   \n",
      "13                Black     Male              0              0   \n",
      "15   Amer-Indian-Eskimo     Male              0              0   \n",
      "16                White     Male              0              0   \n",
      "17                White     Male              0              0   \n",
      "18                White     Male              0              0   \n",
      "19                White   Female              0              0   \n",
      "20                White     Male              0              0   \n",
      "21                Black   Female              0              0   \n",
      "22                Black     Male              0              0   \n",
      "23                White     Male              0           2042   \n",
      "24                White   Female              0              0   \n",
      "25                White     Male              0              0   \n",
      "26                White     Male              0              0   \n",
      "28                White     Male              0              0   \n",
      "29                White     Male              0              0   \n",
      "30                White     Male              0              0   \n",
      "31                Black     Male              0              0   \n",
      "\n",
      "     hours-per-week  native-country  income  \n",
      "0                40   United-States   <=50K  \n",
      "1                13   United-States   <=50K  \n",
      "2                40   United-States   <=50K  \n",
      "3                40   United-States   <=50K  \n",
      "4                40            Cuba   <=50K  \n",
      "5                40   United-States   <=50K  \n",
      "6                16         Jamaica   <=50K  \n",
      "7                45   United-States    >50K  \n",
      "8                50   United-States    >50K  \n",
      "9                40   United-States    >50K  \n",
      "10               80   United-States    >50K  \n",
      "11               40           India    >50K  \n",
      "12               30   United-States   <=50K  \n",
      "13               50   United-States   <=50K  \n",
      "15               45          Mexico   <=50K  \n",
      "16               35   United-States   <=50K  \n",
      "17               40   United-States   <=50K  \n",
      "18               50   United-States   <=50K  \n",
      "19               45   United-States    >50K  \n",
      "20               60   United-States    >50K  \n",
      "21               20   United-States   <=50K  \n",
      "22               40   United-States   <=50K  \n",
      "23               40   United-States   <=50K  \n",
      "24               40   United-States   <=50K  \n",
      "25               40   United-States    >50K  \n",
      "26               40   United-States   <=50K  \n",
      "28               80   United-States   <=50K  \n",
      "29               40   United-States   <=50K  \n",
      "30               52   United-States   <=50K  \n",
      "31               44   United-States   <=50K  \n"
     ]
    }
   ],
   "source": [
    "#removing missing values\n",
    "newdf=newdf.dropna()\n",
    "print(newdf[0:30])"
   ]
  },
  {
   "cell_type": "code",
   "execution_count": 23,
   "metadata": {},
   "outputs": [
    {
     "data": {
      "text/plain": [
       "age                 int64\n",
       " workclass         object\n",
       " education         object\n",
       " education-num      int64\n",
       " marital-status    object\n",
       " occupation        object\n",
       " relationship      object\n",
       " race              object\n",
       " sex               object\n",
       " capital-gain       int64\n",
       " capital-loss       int64\n",
       " hours-per-week     int64\n",
       " native-country    object\n",
       " income            object\n",
       "dtype: object"
      ]
     },
     "execution_count": 23,
     "metadata": {},
     "output_type": "execute_result"
    }
   ],
   "source": [
    "newdf.dtypes"
   ]
  },
  {
   "cell_type": "code",
   "execution_count": 24,
   "metadata": {},
   "outputs": [],
   "source": [
    "#label the categorical variables\n",
    "from sklearn.preprocessing import LabelEncoder\n",
    "le= LabelEncoder()\n",
    "data=newdf[' income']\n",
    "le.fit(data.values)\n",
    "newdf[' income']=le.transform(newdf[' income'])"
   ]
  },
  {
   "cell_type": "code",
   "execution_count": 25,
   "metadata": {},
   "outputs": [
    {
     "data": {
      "text/plain": [
       "age                 int64\n",
       " workclass         object\n",
       " education         object\n",
       " education-num      int64\n",
       " marital-status    object\n",
       " occupation        object\n",
       " relationship      object\n",
       " race              object\n",
       " sex               object\n",
       " capital-gain       int64\n",
       " capital-loss       int64\n",
       " hours-per-week     int64\n",
       " native-country    object\n",
       " income             int64\n",
       "dtype: object"
      ]
     },
     "execution_count": 25,
     "metadata": {},
     "output_type": "execute_result"
    }
   ],
   "source": [
    "newdf.dtypes"
   ]
  },
  {
   "cell_type": "code",
   "execution_count": 26,
   "metadata": {},
   "outputs": [],
   "source": [
    "#split and remove Y in dataset  \n",
    "Y = newdf.iloc[:, -1:].values\n",
    "newdf = newdf.drop(' income', 1)"
   ]
  },
  {
   "cell_type": "code",
   "execution_count": 27,
   "metadata": {},
   "outputs": [
    {
     "name": "stdout",
     "output_type": "stream",
     "text": [
      "['age' ' workclass' ' education' ' education-num' ' marital-status'\n",
      " ' occupation' ' relationship' ' race' ' sex' ' capital-gain'\n",
      " ' capital-loss' ' hours-per-week' ' native-country']\n"
     ]
    }
   ],
   "source": [
    "print(newdf.columns.values)"
   ]
  },
  {
   "cell_type": "code",
   "execution_count": 28,
   "metadata": {},
   "outputs": [],
   "source": [
    "#one hot the categorigal variables\n",
    "for col in newdf.columns.values:\n",
    "    if newdf[col].dtypes=='object':\n",
    "        one_hot = pd.get_dummies(newdf[col])\n",
    "        one_hot = one_hot.add_prefix(col)\n",
    "        newdf = newdf.join(one_hot)             #adding onehot encoded columns to dataframe\n",
    "        newdf = newdf.drop(col, 1) "
   ]
  },
  {
   "cell_type": "code",
   "execution_count": 29,
   "metadata": {},
   "outputs": [
    {
     "name": "stdout",
     "output_type": "stream",
     "text": [
      "   age   education-num   capital-gain   capital-loss   hours-per-week  \\\n",
      "0   39              13           2174              0               40   \n",
      "1   50              13              0              0               13   \n",
      "\n",
      "    workclass Federal-gov   workclass Local-gov   workclass Private  \\\n",
      "0                       0                     0                   0   \n",
      "1                       0                     0                   0   \n",
      "\n",
      "    workclass Self-emp-inc   workclass Self-emp-not-inc  \\\n",
      "0                        0                            0   \n",
      "1                        0                            1   \n",
      "\n",
      "              ...               native-country Portugal  \\\n",
      "0             ...                                     0   \n",
      "1             ...                                     0   \n",
      "\n",
      "    native-country Puerto-Rico   native-country Scotland  \\\n",
      "0                            0                         0   \n",
      "1                            0                         0   \n",
      "\n",
      "    native-country South   native-country Taiwan   native-country Thailand  \\\n",
      "0                      0                       0                         0   \n",
      "1                      0                       0                         0   \n",
      "\n",
      "    native-country Trinadad&Tobago   native-country United-States  \\\n",
      "0                                0                              1   \n",
      "1                                0                              1   \n",
      "\n",
      "    native-country Vietnam   native-country Yugoslavia  \n",
      "0                        0                           0  \n",
      "1                        0                           0  \n",
      "\n",
      "[2 rows x 103 columns]\n"
     ]
    }
   ],
   "source": [
    "print(newdf[0:2])"
   ]
  },
  {
   "cell_type": "code",
   "execution_count": 30,
   "metadata": {},
   "outputs": [
    {
     "data": {
      "text/plain": [
       "age                                           int64\n",
       " education-num                                int64\n",
       " capital-gain                                 int64\n",
       " capital-loss                                 int64\n",
       " hours-per-week                               int64\n",
       " workclass Federal-gov                        uint8\n",
       " workclass Local-gov                          uint8\n",
       " workclass Private                            uint8\n",
       " workclass Self-emp-inc                       uint8\n",
       " workclass Self-emp-not-inc                   uint8\n",
       " workclass State-gov                          uint8\n",
       " workclass Without-pay                        uint8\n",
       " education 10th                               uint8\n",
       " education 11th                               uint8\n",
       " education 12th                               uint8\n",
       " education 1st-4th                            uint8\n",
       " education 5th-6th                            uint8\n",
       " education 7th-8th                            uint8\n",
       " education 9th                                uint8\n",
       " education Assoc-acdm                         uint8\n",
       " education Assoc-voc                          uint8\n",
       " education Bachelors                          uint8\n",
       " education Doctorate                          uint8\n",
       " education HS-grad                            uint8\n",
       " education Masters                            uint8\n",
       " education Preschool                          uint8\n",
       " education Prof-school                        uint8\n",
       " education Some-college                       uint8\n",
       " marital-status Divorced                      uint8\n",
       " marital-status Married-AF-spouse             uint8\n",
       "                                              ...  \n",
       " native-country Greece                        uint8\n",
       " native-country Guatemala                     uint8\n",
       " native-country Haiti                         uint8\n",
       " native-country Holand-Netherlands            uint8\n",
       " native-country Honduras                      uint8\n",
       " native-country Hong                          uint8\n",
       " native-country Hungary                       uint8\n",
       " native-country India                         uint8\n",
       " native-country Iran                          uint8\n",
       " native-country Ireland                       uint8\n",
       " native-country Italy                         uint8\n",
       " native-country Jamaica                       uint8\n",
       " native-country Japan                         uint8\n",
       " native-country Laos                          uint8\n",
       " native-country Mexico                        uint8\n",
       " native-country Nicaragua                     uint8\n",
       " native-country Outlying-US(Guam-USVI-etc)    uint8\n",
       " native-country Peru                          uint8\n",
       " native-country Philippines                   uint8\n",
       " native-country Poland                        uint8\n",
       " native-country Portugal                      uint8\n",
       " native-country Puerto-Rico                   uint8\n",
       " native-country Scotland                      uint8\n",
       " native-country South                         uint8\n",
       " native-country Taiwan                        uint8\n",
       " native-country Thailand                      uint8\n",
       " native-country Trinadad&Tobago               uint8\n",
       " native-country United-States                 uint8\n",
       " native-country Vietnam                       uint8\n",
       " native-country Yugoslavia                    uint8\n",
       "Length: 103, dtype: object"
      ]
     },
     "execution_count": 30,
     "metadata": {},
     "output_type": "execute_result"
    }
   ],
   "source": [
    "newdf.dtypes"
   ]
  },
  {
   "cell_type": "code",
   "execution_count": 31,
   "metadata": {},
   "outputs": [],
   "source": [
    "#split dataset into its attributes and labels\n",
    "X = newdf.values"
   ]
  },
  {
   "cell_type": "code",
   "execution_count": 32,
   "metadata": {},
   "outputs": [
    {
     "name": "stdout",
     "output_type": "stream",
     "text": [
      "[[  39   13 2174    0   40    0    0    0    0    0    1    0    0    0\n",
      "     0    0    0    0    0    0    0    1    0    0    0    0    0    0\n",
      "     0    0    0    0    1    0    0    1    0    0    0    0    0    0\n",
      "     0    0    0    0    0    0    0    0    1    0    0    0    0    0\n",
      "     0    0    0    1    0    1    0    0    0    0    0    0    0    0\n",
      "     0    0    0    0    0    0    0    0    0    0    0    0    0    0\n",
      "     0    0    0    0    0    0    0    0    0    0    0    0    0    0\n",
      "     0    0    1    0    0]\n",
      " [  50   13    0    0   13    0    0    0    0    1    0    0    0    0\n",
      "     0    0    0    0    0    0    0    1    0    0    0    0    0    0\n",
      "     0    0    1    0    0    0    0    0    0    0    1    0    0    0\n",
      "     0    0    0    0    0    0    0    1    0    0    0    0    0    0\n",
      "     0    0    0    1    0    1    0    0    0    0    0    0    0    0\n",
      "     0    0    0    0    0    0    0    0    0    0    0    0    0    0\n",
      "     0    0    0    0    0    0    0    0    0    0    0    0    0    0\n",
      "     0    0    1    0    0]]\n"
     ]
    }
   ],
   "source": [
    "print(X[0:2])"
   ]
  },
  {
   "cell_type": "code",
   "execution_count": 33,
   "metadata": {},
   "outputs": [
    {
     "name": "stderr",
     "output_type": "stream",
     "text": [
      "H:\\Anaconda3\\lib\\site-packages\\sklearn\\utils\\validation.py:475: DataConversionWarning: Data with input dtype int64 was converted to float64 by MinMaxScaler.\n",
      "  warnings.warn(msg, DataConversionWarning)\n"
     ]
    }
   ],
   "source": [
    "#normalize features\n",
    "from sklearn.preprocessing import MinMaxScaler\n",
    "scalar= MinMaxScaler()\n",
    "scalar.fit(X)\n",
    "\n",
    "X = scalar.transform(X)"
   ]
  },
  {
   "cell_type": "code",
   "execution_count": 34,
   "metadata": {},
   "outputs": [
    {
     "name": "stdout",
     "output_type": "stream",
     "text": [
      "[[0.30136986 0.8        0.02174022 0.         0.39795918 0.\n",
      "  0.         0.         0.         0.         1.         0.\n",
      "  0.         0.         0.         0.         0.         0.\n",
      "  0.         0.         0.         1.         0.         0.\n",
      "  0.         0.         0.         0.         0.         0.\n",
      "  0.         0.         1.         0.         0.         1.\n",
      "  0.         0.         0.         0.         0.         0.\n",
      "  0.         0.         0.         0.         0.         0.\n",
      "  0.         0.         1.         0.         0.         0.\n",
      "  0.         0.         0.         0.         0.         1.\n",
      "  0.         1.         0.         0.         0.         0.\n",
      "  0.         0.         0.         0.         0.         0.\n",
      "  0.         0.         0.         0.         0.         0.\n",
      "  0.         0.         0.         0.         0.         0.\n",
      "  0.         0.         0.         0.         0.         0.\n",
      "  0.         0.         0.         0.         0.         0.\n",
      "  0.         0.         0.         0.         1.         0.\n",
      "  0.        ]\n",
      " [0.45205479 0.8        0.         0.         0.12244898 0.\n",
      "  0.         0.         0.         1.         0.         0.\n",
      "  0.         0.         0.         0.         0.         0.\n",
      "  0.         0.         0.         1.         0.         0.\n",
      "  0.         0.         0.         0.         0.         0.\n",
      "  1.         0.         0.         0.         0.         0.\n",
      "  0.         0.         1.         0.         0.         0.\n",
      "  0.         0.         0.         0.         0.         0.\n",
      "  0.         1.         0.         0.         0.         0.\n",
      "  0.         0.         0.         0.         0.         1.\n",
      "  0.         1.         0.         0.         0.         0.\n",
      "  0.         0.         0.         0.         0.         0.\n",
      "  0.         0.         0.         0.         0.         0.\n",
      "  0.         0.         0.         0.         0.         0.\n",
      "  0.         0.         0.         0.         0.         0.\n",
      "  0.         0.         0.         0.         0.         0.\n",
      "  0.         0.         0.         0.         1.         0.\n",
      "  0.        ]]\n"
     ]
    }
   ],
   "source": [
    "print(X[0:2])"
   ]
  },
  {
   "cell_type": "code",
   "execution_count": 35,
   "metadata": {},
   "outputs": [],
   "source": [
    "#training and test split\n",
    "from sklearn.model_selection import train_test_split\n",
    "X_train, X_test, Y_train, Y_test = train_test_split(X,Y, test_size = 0.20)"
   ]
  },
  {
   "cell_type": "code",
   "execution_count": 36,
   "metadata": {},
   "outputs": [],
   "source": [
    "#define and fit the final model\n",
    "model = Sequential()\n",
    "model.add(Dense(1, input_dim=103,kernel_initializer='uniform', activation='sigmoid'))\n",
    "model.compile(loss='binary_crossentropy', optimizer='rmsprop', metrics=['accuracy'])"
   ]
  },
  {
   "cell_type": "code",
   "execution_count": 37,
   "metadata": {},
   "outputs": [
    {
     "name": "stdout",
     "output_type": "stream",
     "text": [
      "Train on 19303 samples, validate on 4826 samples\n",
      "Epoch 1/1000\n",
      "19303/19303 [==============================] - 1s 47us/step - loss: 0.4823 - acc: 0.7684 - val_loss: 0.4060 - val_acc: 0.8145\n",
      "Epoch 2/1000\n",
      "19303/19303 [==============================] - 1s 51us/step - loss: 0.3955 - acc: 0.8179 - val_loss: 0.3771 - val_acc: 0.8286\n",
      "Epoch 3/1000\n",
      "19303/19303 [==============================] - 1s 50us/step - loss: 0.3769 - acc: 0.8259 - val_loss: 0.3666 - val_acc: 0.8301\n",
      "Epoch 4/1000\n",
      "19303/19303 [==============================] - 1s 45us/step - loss: 0.3686 - acc: 0.8294 - val_loss: 0.3608 - val_acc: 0.8305\n",
      "Epoch 5/1000\n",
      "19303/19303 [==============================] - 1s 43us/step - loss: 0.3635 - acc: 0.8302 - val_loss: 0.3574 - val_acc: 0.8307\n",
      "Epoch 6/1000\n",
      "19303/19303 [==============================] - 1s 60us/step - loss: 0.3601 - acc: 0.8310 - val_loss: 0.3548 - val_acc: 0.8334\n",
      "Epoch 7/1000\n",
      "19303/19303 [==============================] - 1s 61us/step - loss: 0.3575 - acc: 0.8312 - val_loss: 0.3537 - val_acc: 0.8311\n",
      "Epoch 8/1000\n",
      "19303/19303 [==============================] - 1s 49us/step - loss: 0.3553 - acc: 0.8322 - val_loss: 0.3511 - val_acc: 0.8326\n",
      "Epoch 9/1000\n",
      "19303/19303 [==============================] - 1s 43us/step - loss: 0.3536 - acc: 0.8335 - val_loss: 0.3503 - val_acc: 0.8336\n",
      "Epoch 10/1000\n",
      "19303/19303 [==============================] - 1s 38us/step - loss: 0.3521 - acc: 0.8343 - val_loss: 0.3499 - val_acc: 0.8336\n",
      "Epoch 11/1000\n",
      "19303/19303 [==============================] - 1s 37us/step - loss: 0.3507 - acc: 0.8349 - val_loss: 0.3484 - val_acc: 0.8353\n",
      "Epoch 12/1000\n",
      "19303/19303 [==============================] - 1s 50us/step - loss: 0.3494 - acc: 0.8347 - val_loss: 0.3472 - val_acc: 0.8359\n",
      "Epoch 13/1000\n",
      "19303/19303 [==============================] - 1s 45us/step - loss: 0.3485 - acc: 0.8353 - val_loss: 0.3469 - val_acc: 0.8359\n",
      "Epoch 14/1000\n",
      "19303/19303 [==============================] - 1s 33us/step - loss: 0.3474 - acc: 0.8358 - val_loss: 0.3458 - val_acc: 0.8361\n",
      "Epoch 15/1000\n",
      "19303/19303 [==============================] - 1s 34us/step - loss: 0.3465 - acc: 0.8358 - val_loss: 0.3452 - val_acc: 0.8365\n",
      "Epoch 16/1000\n",
      "19303/19303 [==============================] - 1s 34us/step - loss: 0.3456 - acc: 0.8371 - val_loss: 0.3443 - val_acc: 0.8369\n",
      "Epoch 17/1000\n",
      "19303/19303 [==============================] - 1s 34us/step - loss: 0.3449 - acc: 0.8372 - val_loss: 0.3445 - val_acc: 0.8363\n",
      "Epoch 18/1000\n",
      "19303/19303 [==============================] - 1s 34us/step - loss: 0.3442 - acc: 0.8381 - val_loss: 0.3440 - val_acc: 0.8373\n",
      "Epoch 19/1000\n",
      "19303/19303 [==============================] - 1s 39us/step - loss: 0.3435 - acc: 0.8382 - val_loss: 0.3430 - val_acc: 0.8369\n",
      "Epoch 20/1000\n",
      "19303/19303 [==============================] - 1s 33us/step - loss: 0.3430 - acc: 0.8386 - val_loss: 0.3425 - val_acc: 0.8365\n",
      "Epoch 21/1000\n",
      "19303/19303 [==============================] - 1s 39us/step - loss: 0.3423 - acc: 0.8381 - val_loss: 0.3421 - val_acc: 0.8373\n",
      "Epoch 22/1000\n",
      "19303/19303 [==============================] - 1s 35us/step - loss: 0.3418 - acc: 0.8385 - val_loss: 0.3427 - val_acc: 0.8367\n",
      "Epoch 23/1000\n",
      "19303/19303 [==============================] - 1s 33us/step - loss: 0.3413 - acc: 0.8395 - val_loss: 0.3426 - val_acc: 0.8361\n",
      "Epoch 24/1000\n",
      "19303/19303 [==============================] - 1s 39us/step - loss: 0.3408 - acc: 0.8401 - val_loss: 0.3410 - val_acc: 0.8400\n",
      "Epoch 25/1000\n",
      "19303/19303 [==============================] - 1s 34us/step - loss: 0.3404 - acc: 0.8405 - val_loss: 0.3409 - val_acc: 0.8375\n",
      "Epoch 26/1000\n",
      "19303/19303 [==============================] - 1s 33us/step - loss: 0.3400 - acc: 0.8393 - val_loss: 0.3405 - val_acc: 0.8392\n",
      "Epoch 27/1000\n",
      "19303/19303 [==============================] - 1s 34us/step - loss: 0.3396 - acc: 0.8405 - val_loss: 0.3408 - val_acc: 0.8365\n",
      "Epoch 28/1000\n",
      "19303/19303 [==============================] - 1s 38us/step - loss: 0.3393 - acc: 0.8416 - val_loss: 0.3403 - val_acc: 0.8386\n",
      "Epoch 29/1000\n",
      "19303/19303 [==============================] - 1s 34us/step - loss: 0.3389 - acc: 0.8417 - val_loss: 0.3398 - val_acc: 0.8392\n",
      "Epoch 30/1000\n",
      "19303/19303 [==============================] - 1s 43us/step - loss: 0.3385 - acc: 0.8416 - val_loss: 0.3398 - val_acc: 0.8384\n",
      "Epoch 31/1000\n",
      "19303/19303 [==============================] - 1s 46us/step - loss: 0.3381 - acc: 0.8416 - val_loss: 0.3393 - val_acc: 0.8404\n",
      "Epoch 32/1000\n",
      "19303/19303 [==============================] - 1s 44us/step - loss: 0.3378 - acc: 0.8424 - val_loss: 0.3393 - val_acc: 0.8384\n",
      "Epoch 33/1000\n",
      "19303/19303 [==============================] - 1s 44us/step - loss: 0.3374 - acc: 0.8420 - val_loss: 0.3393 - val_acc: 0.8378\n",
      "Epoch 34/1000\n",
      "19303/19303 [==============================] - 1s 52us/step - loss: 0.3372 - acc: 0.8432 - val_loss: 0.3390 - val_acc: 0.8378\n",
      "Epoch 35/1000\n",
      "19303/19303 [==============================] - 1s 43us/step - loss: 0.3369 - acc: 0.8424 - val_loss: 0.3384 - val_acc: 0.8402\n",
      "Epoch 36/1000\n",
      "19303/19303 [==============================] - 1s 42us/step - loss: 0.3366 - acc: 0.8432 - val_loss: 0.3383 - val_acc: 0.8402\n",
      "Epoch 37/1000\n",
      "19303/19303 [==============================] - 1s 39us/step - loss: 0.3363 - acc: 0.8438 - val_loss: 0.3380 - val_acc: 0.8407\n",
      "Epoch 38/1000\n",
      "19303/19303 [==============================] - 1s 34us/step - loss: 0.3361 - acc: 0.8432 - val_loss: 0.3382 - val_acc: 0.8392\n",
      "Epoch 39/1000\n",
      "19303/19303 [==============================] - 1s 36us/step - loss: 0.3358 - acc: 0.8434 - val_loss: 0.3379 - val_acc: 0.8390\n",
      "Epoch 40/1000\n",
      "19303/19303 [==============================] - 1s 43us/step - loss: 0.3355 - acc: 0.8446 - val_loss: 0.3376 - val_acc: 0.8407\n",
      "Epoch 41/1000\n",
      "19303/19303 [==============================] - 1s 40us/step - loss: 0.3354 - acc: 0.8434 - val_loss: 0.3379 - val_acc: 0.8392\n",
      "Epoch 42/1000\n",
      "19303/19303 [==============================] - 1s 41us/step - loss: 0.3351 - acc: 0.8441 - val_loss: 0.3378 - val_acc: 0.8394\n",
      "Epoch 43/1000\n",
      "19303/19303 [==============================] - 1s 36us/step - loss: 0.3349 - acc: 0.8443 - val_loss: 0.3371 - val_acc: 0.8421\n",
      "Epoch 44/1000\n",
      "19303/19303 [==============================] - 1s 39us/step - loss: 0.3346 - acc: 0.8450 - val_loss: 0.3370 - val_acc: 0.8415\n",
      "Epoch 45/1000\n",
      "19303/19303 [==============================] - 1s 37us/step - loss: 0.3345 - acc: 0.8444 - val_loss: 0.3371 - val_acc: 0.8415\n",
      "Epoch 46/1000\n",
      "19303/19303 [==============================] - 1s 37us/step - loss: 0.3344 - acc: 0.8439 - val_loss: 0.3368 - val_acc: 0.8429\n",
      "Epoch 47/1000\n",
      "19303/19303 [==============================] - 1s 36us/step - loss: 0.3341 - acc: 0.8450 - val_loss: 0.3368 - val_acc: 0.8429\n",
      "Epoch 48/1000\n",
      "19303/19303 [==============================] - 1s 40us/step - loss: 0.3340 - acc: 0.8457 - val_loss: 0.3367 - val_acc: 0.8427\n",
      "Epoch 49/1000\n",
      "19303/19303 [==============================] - 1s 39us/step - loss: 0.3338 - acc: 0.8452 - val_loss: 0.3366 - val_acc: 0.8427\n",
      "Epoch 50/1000\n",
      "19303/19303 [==============================] - 1s 41us/step - loss: 0.3337 - acc: 0.8458 - val_loss: 0.3365 - val_acc: 0.8427\n",
      "Epoch 51/1000\n",
      "19303/19303 [==============================] - 1s 37us/step - loss: 0.3336 - acc: 0.8455 - val_loss: 0.3368 - val_acc: 0.8415\n",
      "Epoch 52/1000\n",
      "19303/19303 [==============================] - 1s 37us/step - loss: 0.3335 - acc: 0.8455 - val_loss: 0.3363 - val_acc: 0.8431\n",
      "Epoch 53/1000\n",
      "19303/19303 [==============================] - 1s 37us/step - loss: 0.3335 - acc: 0.8448 - val_loss: 0.3362 - val_acc: 0.8440\n",
      "Epoch 54/1000\n",
      "19303/19303 [==============================] - 1s 35us/step - loss: 0.3333 - acc: 0.8459 - val_loss: 0.3361 - val_acc: 0.8442\n",
      "Epoch 55/1000\n",
      "19303/19303 [==============================] - 1s 42us/step - loss: 0.3332 - acc: 0.8460 - val_loss: 0.3363 - val_acc: 0.8427\n",
      "Epoch 56/1000\n",
      "19303/19303 [==============================] - 1s 47us/step - loss: 0.3329 - acc: 0.8458 - val_loss: 0.3361 - val_acc: 0.8431\n",
      "Epoch 57/1000\n",
      "19303/19303 [==============================] - 1s 36us/step - loss: 0.3329 - acc: 0.8457 - val_loss: 0.3363 - val_acc: 0.8421\n"
     ]
    }
   ],
   "source": [
    "#fit the model\n",
    "from keras.callbacks import EarlyStopping \n",
    "early_stopping = EarlyStopping(monitor='val_loss',min_delta=0,patience=3,verbose=0,mode='auto')\n",
    "weights=model.get_weights()\n",
    "history=model.fit(X_train,Y_train,validation_split=0.2,epochs=1000,callbacks = [early_stopping])"
   ]
  },
  {
   "cell_type": "code",
   "execution_count": 38,
   "metadata": {},
   "outputs": [
    {
     "data": {
      "image/png": "[encoded data removed]",
      "text/plain": [
       "<Figure size 432x288 with 1 Axes>"
      ]
     },
     "metadata": {},
     "output_type": "display_data"
    }
   ],
   "source": [
    "# Plot history of loss and validation loss against epoch\n",
    "plt.plot(np.array(history.history['loss']), label=\"train\")\n",
    "plt.plot(np.array(history.history['val_loss']), label=\"validation\")\n",
    "plt.xlabel(\"Epochs\")\n",
    "plt.ylabel(\"Loss\")\n",
    "plt.title(\"Training\")\n",
    "plt.legend()\n",
    "plt.show()"
   ]
  },
  {
   "cell_type": "code",
   "execution_count": 39,
   "metadata": {},
   "outputs": [
    {
     "name": "stdout",
     "output_type": "stream",
     "text": [
      "Test loss: 0.33549813673050866\n",
      "Test accuracy: 0.8506547323451713\n"
     ]
    }
   ],
   "source": [
    "# Test the trained model on the test set\n",
    "score = model.evaluate(X_test, Y_test, verbose=0) \n",
    "print('Test loss:', score[0]) \n",
    "print('Test accuracy:', score[1])"
   ]
  },
  {
   "cell_type": "code",
   "execution_count": 40,
   "metadata": {},
   "outputs": [
    {
     "name": "stdout",
     "output_type": "stream",
     "text": [
      "[[4169  340]\n",
      " [ 561  963]]\n",
      "             precision    recall  f1-score   support\n",
      "\n",
      "          0       0.88      0.92      0.90      4509\n",
      "          1       0.74      0.63      0.68      1524\n",
      "\n",
      "avg / total       0.85      0.85      0.85      6033\n",
      "\n"
     ]
    }
   ],
   "source": [
    "#Predict\n",
    "y_pred = model.predict_classes(X_test)\n",
    "\n",
    "#Evaluating the Algorithm\n",
    "from sklearn.metrics import classification_report, confusion_matrix  \n",
    "print(confusion_matrix(Y_test, y_pred))  \n",
    "print(classification_report(Y_test, y_pred)) "
   ]
  },
  {
   "cell_type": "markdown",
   "metadata": {},
   "source": [
    "# Neural Network"
   ]
  },
  {
   "cell_type": "code",
   "execution_count": 41,
   "metadata": {},
   "outputs": [],
   "source": [
    "from keras.models import Sequential\n",
    "from keras.layers import Dense\n",
    "from keras.utils import to_categorical\n",
    "import numpy as np\n",
    "import matplotlib.pyplot as plt\n",
    "import pandas as pd\n",
    "#fix random seed for reproducibility\n",
    "np.random.seed(10)"
   ]
  },
  {
   "cell_type": "code",
   "execution_count": 42,
   "metadata": {},
   "outputs": [
    {
     "name": "stdout",
     "output_type": "stream",
     "text": [
      "   age          workclass   education   education-num       marital-status  \\\n",
      "0   39          State-gov   Bachelors              13        Never-married   \n",
      "1   50   Self-emp-not-inc   Bachelors              13   Married-civ-spouse   \n",
      "2   38            Private     HS-grad               9             Divorced   \n",
      "\n",
      "           occupation    relationship    race    sex   capital-gain  \\\n",
      "0        Adm-clerical   Not-in-family   White   Male           2174   \n",
      "1     Exec-managerial         Husband   White   Male              0   \n",
      "2   Handlers-cleaners   Not-in-family   White   Male              0   \n",
      "\n",
      "    capital-loss   hours-per-week  native-country  income  \n",
      "0              0               40   United-States   <=50K  \n",
      "1              0               13   United-States   <=50K  \n",
      "2              0               40   United-States   <=50K  \n"
     ]
    }
   ],
   "source": [
    "#import data set\n",
    "url = \"Adult_Census_Income_Binary_Classification_dataset.csv\"\n",
    "#read dataset to pandas dataframe\n",
    "dataset = pd.read_csv(url)\n",
    "print(dataset[0:3])"
   ]
  },
  {
   "cell_type": "code",
   "execution_count": 43,
   "metadata": {},
   "outputs": [
    {
     "name": "stdout",
     "output_type": "stream",
     "text": [
      "   age          workclass   education   education-num       marital-status  \\\n",
      "0   39          State-gov   Bachelors              13        Never-married   \n",
      "1   50   Self-emp-not-inc   Bachelors              13   Married-civ-spouse   \n",
      "2   38            Private     HS-grad               9             Divorced   \n",
      "\n",
      "           occupation    relationship    race    sex   capital-gain  \\\n",
      "0        Adm-clerical   Not-in-family   White   Male           2174   \n",
      "1     Exec-managerial         Husband   White   Male              0   \n",
      "2   Handlers-cleaners   Not-in-family   White   Male              0   \n",
      "\n",
      "    capital-loss   hours-per-week  native-country  income  \n",
      "0              0               40   United-States   <=50K  \n",
      "1              0               13   United-States   <=50K  \n",
      "2              0               40   United-States   <=50K  \n"
     ]
    }
   ],
   "source": [
    "#changing missing values to NaN\n",
    "newdf = dataset.replace(r'\\?', np.nan, regex=True)\n",
    "print(newdf[0:3])"
   ]
  },
  {
   "cell_type": "code",
   "execution_count": 44,
   "metadata": {},
   "outputs": [
    {
     "data": {
      "text/plain": [
       "2399"
      ]
     },
     "execution_count": 44,
     "metadata": {},
     "output_type": "execute_result"
    }
   ],
   "source": [
    "#checking number of rows has at least one missing value\n",
    "newdf.isnull().any(axis=1).sum()"
   ]
  },
  {
   "cell_type": "code",
   "execution_count": 45,
   "metadata": {},
   "outputs": [
    {
     "name": "stdout",
     "output_type": "stream",
     "text": [
      "    age          workclass      education   education-num  \\\n",
      "0    39          State-gov      Bachelors              13   \n",
      "1    50   Self-emp-not-inc      Bachelors              13   \n",
      "2    38            Private        HS-grad               9   \n",
      "3    53            Private           11th               7   \n",
      "4    28            Private      Bachelors              13   \n",
      "5    37            Private        Masters              14   \n",
      "6    49            Private            9th               5   \n",
      "7    52   Self-emp-not-inc        HS-grad               9   \n",
      "8    31            Private        Masters              14   \n",
      "9    42            Private      Bachelors              13   \n",
      "10   37            Private   Some-college              10   \n",
      "11   30          State-gov      Bachelors              13   \n",
      "12   23            Private      Bachelors              13   \n",
      "13   32            Private     Assoc-acdm              12   \n",
      "15   34            Private        7th-8th               4   \n",
      "16   25   Self-emp-not-inc        HS-grad               9   \n",
      "17   32            Private        HS-grad               9   \n",
      "18   38            Private           11th               7   \n",
      "19   43   Self-emp-not-inc        Masters              14   \n",
      "20   40            Private      Doctorate              16   \n",
      "21   54            Private        HS-grad               9   \n",
      "22   35        Federal-gov            9th               5   \n",
      "23   43            Private           11th               7   \n",
      "24   59            Private        HS-grad               9   \n",
      "25   56          Local-gov      Bachelors              13   \n",
      "26   19            Private        HS-grad               9   \n",
      "28   39            Private        HS-grad               9   \n",
      "29   49            Private        HS-grad               9   \n",
      "30   23          Local-gov     Assoc-acdm              12   \n",
      "31   20            Private   Some-college              10   \n",
      "\n",
      "            marital-status          occupation    relationship  \\\n",
      "0            Never-married        Adm-clerical   Not-in-family   \n",
      "1       Married-civ-spouse     Exec-managerial         Husband   \n",
      "2                 Divorced   Handlers-cleaners   Not-in-family   \n",
      "3       Married-civ-spouse   Handlers-cleaners         Husband   \n",
      "4       Married-civ-spouse      Prof-specialty            Wife   \n",
      "5       Married-civ-spouse     Exec-managerial            Wife   \n",
      "6    Married-spouse-absent       Other-service   Not-in-family   \n",
      "7       Married-civ-spouse     Exec-managerial         Husband   \n",
      "8            Never-married      Prof-specialty   Not-in-family   \n",
      "9       Married-civ-spouse     Exec-managerial         Husband   \n",
      "10      Married-civ-spouse     Exec-managerial         Husband   \n",
      "11      Married-civ-spouse      Prof-specialty         Husband   \n",
      "12           Never-married        Adm-clerical       Own-child   \n",
      "13           Never-married               Sales   Not-in-family   \n",
      "15      Married-civ-spouse    Transport-moving         Husband   \n",
      "16           Never-married     Farming-fishing       Own-child   \n",
      "17           Never-married   Machine-op-inspct       Unmarried   \n",
      "18      Married-civ-spouse               Sales         Husband   \n",
      "19                Divorced     Exec-managerial       Unmarried   \n",
      "20      Married-civ-spouse      Prof-specialty         Husband   \n",
      "21               Separated       Other-service       Unmarried   \n",
      "22      Married-civ-spouse     Farming-fishing         Husband   \n",
      "23      Married-civ-spouse    Transport-moving         Husband   \n",
      "24                Divorced        Tech-support       Unmarried   \n",
      "25      Married-civ-spouse        Tech-support         Husband   \n",
      "26           Never-married        Craft-repair       Own-child   \n",
      "28                Divorced     Exec-managerial   Not-in-family   \n",
      "29      Married-civ-spouse        Craft-repair         Husband   \n",
      "30           Never-married     Protective-serv   Not-in-family   \n",
      "31           Never-married               Sales       Own-child   \n",
      "\n",
      "                   race      sex   capital-gain   capital-loss  \\\n",
      "0                 White     Male           2174              0   \n",
      "1                 White     Male              0              0   \n",
      "2                 White     Male              0              0   \n",
      "3                 Black     Male              0              0   \n",
      "4                 Black   Female              0              0   \n",
      "5                 White   Female              0              0   \n",
      "6                 Black   Female              0              0   \n",
      "7                 White     Male              0              0   \n",
      "8                 White   Female          14084              0   \n",
      "9                 White     Male           5178              0   \n",
      "10                Black     Male              0              0   \n",
      "11   Asian-Pac-Islander     Male              0              0   \n",
      "12                White   Female              0              0   \n",
      "13                Black     Male              0              0   \n",
      "15   Amer-Indian-Eskimo     Male              0              0   \n",
      "16                White     Male              0              0   \n",
      "17                White     Male              0              0   \n",
      "18                White     Male              0              0   \n",
      "19                White   Female              0              0   \n",
      "20                White     Male              0              0   \n",
      "21                Black   Female              0              0   \n",
      "22                Black     Male              0              0   \n",
      "23                White     Male              0           2042   \n",
      "24                White   Female              0              0   \n",
      "25                White     Male              0              0   \n",
      "26                White     Male              0              0   \n",
      "28                White     Male              0              0   \n",
      "29                White     Male              0              0   \n",
      "30                White     Male              0              0   \n",
      "31                Black     Male              0              0   \n",
      "\n",
      "     hours-per-week  native-country  income  \n",
      "0                40   United-States   <=50K  \n",
      "1                13   United-States   <=50K  \n",
      "2                40   United-States   <=50K  \n",
      "3                40   United-States   <=50K  \n",
      "4                40            Cuba   <=50K  \n",
      "5                40   United-States   <=50K  \n",
      "6                16         Jamaica   <=50K  \n",
      "7                45   United-States    >50K  \n",
      "8                50   United-States    >50K  \n",
      "9                40   United-States    >50K  \n",
      "10               80   United-States    >50K  \n",
      "11               40           India    >50K  \n",
      "12               30   United-States   <=50K  \n",
      "13               50   United-States   <=50K  \n",
      "15               45          Mexico   <=50K  \n",
      "16               35   United-States   <=50K  \n",
      "17               40   United-States   <=50K  \n",
      "18               50   United-States   <=50K  \n",
      "19               45   United-States    >50K  \n",
      "20               60   United-States    >50K  \n",
      "21               20   United-States   <=50K  \n",
      "22               40   United-States   <=50K  \n",
      "23               40   United-States   <=50K  \n",
      "24               40   United-States   <=50K  \n",
      "25               40   United-States    >50K  \n",
      "26               40   United-States   <=50K  \n",
      "28               80   United-States   <=50K  \n",
      "29               40   United-States   <=50K  \n",
      "30               52   United-States   <=50K  \n",
      "31               44   United-States   <=50K  \n"
     ]
    }
   ],
   "source": [
    "#removing missing values\n",
    "newdf=newdf.dropna()\n",
    "print(newdf[0:30])"
   ]
  },
  {
   "cell_type": "code",
   "execution_count": 46,
   "metadata": {},
   "outputs": [
    {
     "data": {
      "text/plain": [
       "age                 int64\n",
       " workclass         object\n",
       " education         object\n",
       " education-num      int64\n",
       " marital-status    object\n",
       " occupation        object\n",
       " relationship      object\n",
       " race              object\n",
       " sex               object\n",
       " capital-gain       int64\n",
       " capital-loss       int64\n",
       " hours-per-week     int64\n",
       " native-country    object\n",
       " income            object\n",
       "dtype: object"
      ]
     },
     "execution_count": 46,
     "metadata": {},
     "output_type": "execute_result"
    }
   ],
   "source": [
    "newdf.dtypes"
   ]
  },
  {
   "cell_type": "code",
   "execution_count": 47,
   "metadata": {},
   "outputs": [],
   "source": [
    "#label the categorical variables\n",
    "from sklearn.preprocessing import LabelEncoder\n",
    "le= LabelEncoder()\n",
    "data=newdf[' income']\n",
    "le.fit(data.values)\n",
    "newdf[' income']=le.transform(newdf[' income'])"
   ]
  },
  {
   "cell_type": "code",
   "execution_count": 48,
   "metadata": {},
   "outputs": [
    {
     "data": {
      "text/plain": [
       "age                 int64\n",
       " workclass         object\n",
       " education         object\n",
       " education-num      int64\n",
       " marital-status    object\n",
       " occupation        object\n",
       " relationship      object\n",
       " race              object\n",
       " sex               object\n",
       " capital-gain       int64\n",
       " capital-loss       int64\n",
       " hours-per-week     int64\n",
       " native-country    object\n",
       " income             int64\n",
       "dtype: object"
      ]
     },
     "execution_count": 48,
     "metadata": {},
     "output_type": "execute_result"
    }
   ],
   "source": [
    "newdf.dtypes"
   ]
  },
  {
   "cell_type": "code",
   "execution_count": 49,
   "metadata": {},
   "outputs": [],
   "source": [
    "#split and remove Y in dataset  \n",
    "Y = newdf.iloc[:, -1:].values\n",
    "newdf = newdf.drop(' income', 1)"
   ]
  },
  {
   "cell_type": "code",
   "execution_count": 50,
   "metadata": {},
   "outputs": [
    {
     "name": "stdout",
     "output_type": "stream",
     "text": [
      "['age' ' workclass' ' education' ' education-num' ' marital-status'\n",
      " ' occupation' ' relationship' ' race' ' sex' ' capital-gain'\n",
      " ' capital-loss' ' hours-per-week' ' native-country']\n"
     ]
    }
   ],
   "source": [
    "print(newdf.columns.values)"
   ]
  },
  {
   "cell_type": "code",
   "execution_count": 51,
   "metadata": {},
   "outputs": [],
   "source": [
    "#one hot the categorigal variables\n",
    "for col in newdf.columns.values:\n",
    "    if newdf[col].dtypes=='object':\n",
    "        one_hot = pd.get_dummies(newdf[col])\n",
    "        one_hot = one_hot.add_prefix(col)\n",
    "        newdf = newdf.join(one_hot)             #adding onehot encoded columns to dataframe\n",
    "        newdf = newdf.drop(col, 1)              #deleting categorical column"
   ]
  },
  {
   "cell_type": "code",
   "execution_count": 52,
   "metadata": {},
   "outputs": [
    {
     "name": "stdout",
     "output_type": "stream",
     "text": [
      "   age   education-num   capital-gain   capital-loss   hours-per-week  \\\n",
      "0   39              13           2174              0               40   \n",
      "1   50              13              0              0               13   \n",
      "2   38               9              0              0               40   \n",
      "\n",
      "    workclass Federal-gov   workclass Local-gov   workclass Private  \\\n",
      "0                       0                     0                   0   \n",
      "1                       0                     0                   0   \n",
      "2                       0                     0                   1   \n",
      "\n",
      "    workclass Self-emp-inc   workclass Self-emp-not-inc  \\\n",
      "0                        0                            0   \n",
      "1                        0                            1   \n",
      "2                        0                            0   \n",
      "\n",
      "              ...               native-country Portugal  \\\n",
      "0             ...                                     0   \n",
      "1             ...                                     0   \n",
      "2             ...                                     0   \n",
      "\n",
      "    native-country Puerto-Rico   native-country Scotland  \\\n",
      "0                            0                         0   \n",
      "1                            0                         0   \n",
      "2                            0                         0   \n",
      "\n",
      "    native-country South   native-country Taiwan   native-country Thailand  \\\n",
      "0                      0                       0                         0   \n",
      "1                      0                       0                         0   \n",
      "2                      0                       0                         0   \n",
      "\n",
      "    native-country Trinadad&Tobago   native-country United-States  \\\n",
      "0                                0                              1   \n",
      "1                                0                              1   \n",
      "2                                0                              1   \n",
      "\n",
      "    native-country Vietnam   native-country Yugoslavia  \n",
      "0                        0                           0  \n",
      "1                        0                           0  \n",
      "2                        0                           0  \n",
      "\n",
      "[3 rows x 103 columns]\n"
     ]
    }
   ],
   "source": [
    "print(newdf[0:3])"
   ]
  },
  {
   "cell_type": "code",
   "execution_count": 53,
   "metadata": {},
   "outputs": [
    {
     "data": {
      "text/plain": [
       "age                                           int64\n",
       " education-num                                int64\n",
       " capital-gain                                 int64\n",
       " capital-loss                                 int64\n",
       " hours-per-week                               int64\n",
       " workclass Federal-gov                        uint8\n",
       " workclass Local-gov                          uint8\n",
       " workclass Private                            uint8\n",
       " workclass Self-emp-inc                       uint8\n",
       " workclass Self-emp-not-inc                   uint8\n",
       " workclass State-gov                          uint8\n",
       " workclass Without-pay                        uint8\n",
       " education 10th                               uint8\n",
       " education 11th                               uint8\n",
       " education 12th                               uint8\n",
       " education 1st-4th                            uint8\n",
       " education 5th-6th                            uint8\n",
       " education 7th-8th                            uint8\n",
       " education 9th                                uint8\n",
       " education Assoc-acdm                         uint8\n",
       " education Assoc-voc                          uint8\n",
       " education Bachelors                          uint8\n",
       " education Doctorate                          uint8\n",
       " education HS-grad                            uint8\n",
       " education Masters                            uint8\n",
       " education Preschool                          uint8\n",
       " education Prof-school                        uint8\n",
       " education Some-college                       uint8\n",
       " marital-status Divorced                      uint8\n",
       " marital-status Married-AF-spouse             uint8\n",
       "                                              ...  \n",
       " native-country Greece                        uint8\n",
       " native-country Guatemala                     uint8\n",
       " native-country Haiti                         uint8\n",
       " native-country Holand-Netherlands            uint8\n",
       " native-country Honduras                      uint8\n",
       " native-country Hong                          uint8\n",
       " native-country Hungary                       uint8\n",
       " native-country India                         uint8\n",
       " native-country Iran                          uint8\n",
       " native-country Ireland                       uint8\n",
       " native-country Italy                         uint8\n",
       " native-country Jamaica                       uint8\n",
       " native-country Japan                         uint8\n",
       " native-country Laos                          uint8\n",
       " native-country Mexico                        uint8\n",
       " native-country Nicaragua                     uint8\n",
       " native-country Outlying-US(Guam-USVI-etc)    uint8\n",
       " native-country Peru                          uint8\n",
       " native-country Philippines                   uint8\n",
       " native-country Poland                        uint8\n",
       " native-country Portugal                      uint8\n",
       " native-country Puerto-Rico                   uint8\n",
       " native-country Scotland                      uint8\n",
       " native-country South                         uint8\n",
       " native-country Taiwan                        uint8\n",
       " native-country Thailand                      uint8\n",
       " native-country Trinadad&Tobago               uint8\n",
       " native-country United-States                 uint8\n",
       " native-country Vietnam                       uint8\n",
       " native-country Yugoslavia                    uint8\n",
       "Length: 103, dtype: object"
      ]
     },
     "execution_count": 53,
     "metadata": {},
     "output_type": "execute_result"
    }
   ],
   "source": [
    "newdf.dtypes"
   ]
  },
  {
   "cell_type": "code",
   "execution_count": 54,
   "metadata": {},
   "outputs": [],
   "source": [
    "#split dataset into its attributes and labels\n",
    "X = newdf.values"
   ]
  },
  {
   "cell_type": "code",
   "execution_count": 55,
   "metadata": {},
   "outputs": [
    {
     "name": "stdout",
     "output_type": "stream",
     "text": [
      "[[  39   13 2174    0   40    0    0    0    0    0    1    0    0    0\n",
      "     0    0    0    0    0    0    0    1    0    0    0    0    0    0\n",
      "     0    0    0    0    1    0    0    1    0    0    0    0    0    0\n",
      "     0    0    0    0    0    0    0    0    1    0    0    0    0    0\n",
      "     0    0    0    1    0    1    0    0    0    0    0    0    0    0\n",
      "     0    0    0    0    0    0    0    0    0    0    0    0    0    0\n",
      "     0    0    0    0    0    0    0    0    0    0    0    0    0    0\n",
      "     0    0    1    0    0]\n",
      " [  50   13    0    0   13    0    0    0    0    1    0    0    0    0\n",
      "     0    0    0    0    0    0    0    1    0    0    0    0    0    0\n",
      "     0    0    1    0    0    0    0    0    0    0    1    0    0    0\n",
      "     0    0    0    0    0    0    0    1    0    0    0    0    0    0\n",
      "     0    0    0    1    0    1    0    0    0    0    0    0    0    0\n",
      "     0    0    0    0    0    0    0    0    0    0    0    0    0    0\n",
      "     0    0    0    0    0    0    0    0    0    0    0    0    0    0\n",
      "     0    0    1    0    0]]\n"
     ]
    }
   ],
   "source": [
    "print(X[0:2])"
   ]
  },
  {
   "cell_type": "code",
   "execution_count": 56,
   "metadata": {},
   "outputs": [
    {
     "name": "stderr",
     "output_type": "stream",
     "text": [
      "H:\\Anaconda3\\lib\\site-packages\\sklearn\\utils\\validation.py:475: DataConversionWarning: Data with input dtype int64 was converted to float64 by MinMaxScaler.\n",
      "  warnings.warn(msg, DataConversionWarning)\n"
     ]
    }
   ],
   "source": [
    "#normalize features\n",
    "from sklearn.preprocessing import MinMaxScaler\n",
    "scalar= MinMaxScaler()\n",
    "scalar.fit(X)\n",
    "\n",
    "X = scalar.transform(X)"
   ]
  },
  {
   "cell_type": "code",
   "execution_count": 57,
   "metadata": {},
   "outputs": [
    {
     "name": "stdout",
     "output_type": "stream",
     "text": [
      "[[0.30136986 0.8        0.02174022 0.         0.39795918 0.\n",
      "  0.         0.         0.         0.         1.         0.\n",
      "  0.         0.         0.         0.         0.         0.\n",
      "  0.         0.         0.         1.         0.         0.\n",
      "  0.         0.         0.         0.         0.         0.\n",
      "  0.         0.         1.         0.         0.         1.\n",
      "  0.         0.         0.         0.         0.         0.\n",
      "  0.         0.         0.         0.         0.         0.\n",
      "  0.         0.         1.         0.         0.         0.\n",
      "  0.         0.         0.         0.         0.         1.\n",
      "  0.         1.         0.         0.         0.         0.\n",
      "  0.         0.         0.         0.         0.         0.\n",
      "  0.         0.         0.         0.         0.         0.\n",
      "  0.         0.         0.         0.         0.         0.\n",
      "  0.         0.         0.         0.         0.         0.\n",
      "  0.         0.         0.         0.         0.         0.\n",
      "  0.         0.         0.         0.         1.         0.\n",
      "  0.        ]\n",
      " [0.45205479 0.8        0.         0.         0.12244898 0.\n",
      "  0.         0.         0.         1.         0.         0.\n",
      "  0.         0.         0.         0.         0.         0.\n",
      "  0.         0.         0.         1.         0.         0.\n",
      "  0.         0.         0.         0.         0.         0.\n",
      "  1.         0.         0.         0.         0.         0.\n",
      "  0.         0.         1.         0.         0.         0.\n",
      "  0.         0.         0.         0.         0.         0.\n",
      "  0.         1.         0.         0.         0.         0.\n",
      "  0.         0.         0.         0.         0.         1.\n",
      "  0.         1.         0.         0.         0.         0.\n",
      "  0.         0.         0.         0.         0.         0.\n",
      "  0.         0.         0.         0.         0.         0.\n",
      "  0.         0.         0.         0.         0.         0.\n",
      "  0.         0.         0.         0.         0.         0.\n",
      "  0.         0.         0.         0.         0.         0.\n",
      "  0.         0.         0.         0.         1.         0.\n",
      "  0.        ]\n",
      " [0.28767123 0.53333333 0.         0.         0.39795918 0.\n",
      "  0.         1.         0.         0.         0.         0.\n",
      "  0.         0.         0.         0.         0.         0.\n",
      "  0.         0.         0.         0.         0.         1.\n",
      "  0.         0.         0.         0.         1.         0.\n",
      "  0.         0.         0.         0.         0.         0.\n",
      "  0.         0.         0.         0.         1.         0.\n",
      "  0.         0.         0.         0.         0.         0.\n",
      "  0.         0.         1.         0.         0.         0.\n",
      "  0.         0.         0.         0.         0.         1.\n",
      "  0.         1.         0.         0.         0.         0.\n",
      "  0.         0.         0.         0.         0.         0.\n",
      "  0.         0.         0.         0.         0.         0.\n",
      "  0.         0.         0.         0.         0.         0.\n",
      "  0.         0.         0.         0.         0.         0.\n",
      "  0.         0.         0.         0.         0.         0.\n",
      "  0.         0.         0.         0.         1.         0.\n",
      "  0.        ]]\n"
     ]
    }
   ],
   "source": [
    "print(X[0:3])"
   ]
  },
  {
   "cell_type": "code",
   "execution_count": 58,
   "metadata": {},
   "outputs": [],
   "source": [
    "#training and test split\n",
    "from sklearn.model_selection import train_test_split\n",
    "X_train, X_test, Y_train, Y_test = train_test_split(X,Y, test_size = 0.20)"
   ]
  },
  {
   "cell_type": "code",
   "execution_count": 59,
   "metadata": {},
   "outputs": [],
   "source": [
    "#create model\n",
    "model= Sequential()\n",
    "model.add(Dense(45,input_dim=103, kernel_initializer='uniform',activation='relu'))\n",
    "model.add(Dense(90,kernel_initializer='uniform', activation='relu'))\n",
    "model.add(Dense(1,kernel_initializer='uniform',activation='sigmoid'))\n",
    "\n"
   ]
  },
  {
   "cell_type": "code",
   "execution_count": 60,
   "metadata": {},
   "outputs": [],
   "source": [
    "#compile the model\n",
    "model.compile(loss='binary_crossentropy', optimizer='adam', metrics=['accuracy'])\n"
   ]
  },
  {
   "cell_type": "code",
   "execution_count": 61,
   "metadata": {},
   "outputs": [
    {
     "name": "stdout",
     "output_type": "stream",
     "text": [
      "Train on 19303 samples, validate on 4826 samples\n",
      "Epoch 1/150\n",
      "19303/19303 [==============================] - 1s 50us/step - loss: 0.3920 - acc: 0.8103 - val_loss: 0.3483 - val_acc: 0.8373\n",
      "Epoch 2/150\n",
      "19303/19303 [==============================] - 1s 45us/step - loss: 0.3440 - acc: 0.8385 - val_loss: 0.3524 - val_acc: 0.8355\n",
      "Epoch 3/150\n",
      "19303/19303 [==============================] - 1s 58us/step - loss: 0.3339 - acc: 0.8422 - val_loss: 0.3329 - val_acc: 0.8433\n",
      "Epoch 4/150\n",
      "19303/19303 [==============================] - 1s 57us/step - loss: 0.3285 - acc: 0.8442 - val_loss: 0.3297 - val_acc: 0.8450\n",
      "Epoch 5/150\n",
      "19303/19303 [==============================] - 1s 55us/step - loss: 0.3229 - acc: 0.8474 - val_loss: 0.3313 - val_acc: 0.8394\n",
      "Epoch 6/150\n",
      "19303/19303 [==============================] - 1s 51us/step - loss: 0.3198 - acc: 0.8487 - val_loss: 0.3300 - val_acc: 0.8431\n"
     ]
    }
   ],
   "source": [
    "#fit the model\n",
    "from keras.callbacks import EarlyStopping \n",
    "early_stopping = EarlyStopping(monitor='val_loss',min_delta=0,patience=2,verbose=0,mode='auto')\n",
    "weights=model.get_weights()\n",
    "history=model.fit(X_train,Y_train,validation_split=0.2,epochs=150,callbacks = [early_stopping])\n"
   ]
  },
  {
   "cell_type": "code",
   "execution_count": 62,
   "metadata": {},
   "outputs": [
    {
     "data": {
      "image/png": "[encoded data removed]",
      "text/plain": [
       "<Figure size 432x288 with 1 Axes>"
      ]
     },
     "metadata": {},
     "output_type": "display_data"
    }
   ],
   "source": [
    "# Plot history of loss and validation loss against epoch\n",
    "plt.plot(np.array(history.history['loss']), label=\"train\")\n",
    "plt.plot(np.array(history.history['val_loss']), label=\"validation\")\n",
    "plt.xlabel(\"Epochs\")\n",
    "plt.ylabel(\"Loss\")\n",
    "plt.title(\"Training\")\n",
    "plt.legend()\n",
    "plt.show()"
   ]
  },
  {
   "cell_type": "code",
   "execution_count": 63,
   "metadata": {
    "scrolled": true
   },
   "outputs": [
    {
     "name": "stdout",
     "output_type": "stream",
     "text": [
      "Test loss: 0.32605077711855734\n",
      "Test accuracy: 0.8493286922324579\n"
     ]
    }
   ],
   "source": [
    "# Test the trained model on the test set\n",
    "score = model.evaluate(X_test, Y_test, verbose=0) \n",
    "print('Test loss:', score[0]) \n",
    "print('Test accuracy:', score[1])\n",
    "\n"
   ]
  },
  {
   "cell_type": "code",
   "execution_count": 64,
   "metadata": {},
   "outputs": [
    {
     "name": "stdout",
     "output_type": "stream",
     "text": [
      "[[4142  367]\n",
      " [ 542  982]]\n",
      "             precision    recall  f1-score   support\n",
      "\n",
      "          0       0.88      0.92      0.90      4509\n",
      "          1       0.73      0.64      0.68      1524\n",
      "\n",
      "avg / total       0.84      0.85      0.85      6033\n",
      "\n"
     ]
    }
   ],
   "source": [
    "#Predict\n",
    "y_pred = model.predict_classes(X_test)\n",
    "\n",
    "#Evaluating the Algorithm\n",
    "from sklearn.metrics import classification_report, confusion_matrix  \n",
    "print(confusion_matrix(Y_test, y_pred))  \n",
    "print(classification_report(Y_test, y_pred)) "
   ]
  },
  {
   "cell_type": "code",
   "execution_count": null,
   "metadata": {},
   "outputs": [],
   "source": []
  }
 ],
 "metadata": {
  "kernelspec": {
   "display_name": "Python 3",
   "language": "python",
   "name": "python3"
  },
  "language_info": {
   "codemirror_mode": {
    "name": "ipython",
    "version": 3
   },
   "file_extension": ".py",
   "mimetype": "text/x-python",
   "name": "python",
   "nbconvert_exporter": "python",
   "pygments_lexer": "ipython3",
   "version": "3.6.5"
  }
 },
 "nbformat": 4,
 "nbformat_minor": 2
}
